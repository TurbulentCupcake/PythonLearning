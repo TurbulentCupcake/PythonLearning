{
 "cells": [
  {
   "cell_type": "code",
   "execution_count": 3,
   "metadata": {
    "collapsed": true
   },
   "outputs": [],
   "source": [
    "import csv"
   ]
  },
  {
   "cell_type": "code",
   "execution_count": 14,
   "metadata": {
    "collapsed": false
   },
   "outputs": [
    {
     "ename": "SyntaxError",
     "evalue": "invalid syntax (<ipython-input-14-6cac8ebe4907>, line 5)",
     "output_type": "error",
     "traceback": [
      "\u001b[1;36m  File \u001b[1;32m\"<ipython-input-14-6cac8ebe4907>\"\u001b[1;36m, line \u001b[1;32m5\u001b[0m\n\u001b[1;33m    embarkMap = {\"C\":1,\"Q\":2,\"S\",3,\"\":\"\"}\u001b[0m\n\u001b[1;37m                                ^\u001b[0m\n\u001b[1;31mSyntaxError\u001b[0m\u001b[1;31m:\u001b[0m invalid syntax\n"
     ]
    }
   ],
   "source": [
    "with open('train.csv','rb') as csvfile:\n",
    "    dataTransform = []\n",
    "    labels = []\n",
    "    genderMap = {\"male\":1,\"female\":2,\"\":\"\"}\n",
    "    embarkMap = {\"C\":1,\"Q\":2,\"S\":3,\"\":\"\"}\n",
    "    lineNum = 1\n",
    "    blank = \"\"\n",
    "    reader = csv.reader(csvfile, delimiter=',', quotechar = \"\\\"\")\n",
    "    for row in reader:\n",
    "        if lineNum==1:\n",
    "            header = row\n",
    "        else:\n",
    "            allFeatures=list(map(lambda x:genderMap[x] if row.index(x)==4 else embarkMap[x] if row.index(x)==11 else x,row))\n",
    "            featureVector = [allFeatures[header.index(features)] for feature in features]\n",
    "            if blank not in featureVector:\n",
    "            \n",
    "        \n",
    "        "
   ]
  },
  {
   "cell_type": "code",
   "execution_count": null,
   "metadata": {
    "collapsed": true
   },
   "outputs": [],
   "source": []
  }
 ],
 "metadata": {
  "kernelspec": {
   "display_name": "Python 2",
   "language": "python",
   "name": "python2"
  },
  "language_info": {
   "codemirror_mode": {
    "name": "ipython",
    "version": 2
   },
   "file_extension": ".py",
   "mimetype": "text/x-python",
   "name": "python",
   "nbconvert_exporter": "python",
   "pygments_lexer": "ipython2",
   "version": "2.7.11"
  }
 },
 "nbformat": 4,
 "nbformat_minor": 0
}
