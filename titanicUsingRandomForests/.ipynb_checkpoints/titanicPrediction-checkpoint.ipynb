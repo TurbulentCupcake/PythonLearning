{
 "cells": [
  {
   "cell_type": "code",
   "execution_count": 3,
   "metadata": {
    "collapsed": true
   },
   "outputs": [],
   "source": [
    "import csv\n",
    "\n",
    "features=[\"Pclass\",\"Sex\",\"Age\",\"SibSp\",\"Fare\"]"
   ]
  },
  {
   "cell_type": "code",
   "execution_count": 6,
   "metadata": {
    "collapsed": false
   },
   "outputs": [],
   "source": [
    "def transformTrainingData(trainingFile, features):\n",
    "    with open(trainingFile,'rb') as csvfile:\n",
    "        dataTransform = []\n",
    "        labels = []\n",
    "        genderMap = {\"male\":1,\"female\":2,\"\":\"\"}\n",
    "        embarkMap = {\"C\":1,\"Q\":2,\"S\":3,\"\":\"\"}\n",
    "        lineNum = 1\n",
    "        blank = \"\"\n",
    "        reader = csv.reader(csvfile, delimiter=',', quotechar = \"\\\"\")\n",
    "        for row in reader:\n",
    "            if lineNum==1:\n",
    "                header = row\n",
    "            else:\n",
    "                allFeatures=list(map(lambda x:genderMap[x] if row.index(x)==4 else embarkMap[x] if row.index(x)==11 else x,row))\n",
    "                featureVector = [allFeatures[header.index(feature)] for feature in features]\n",
    "                if blank not in featureVector:\n",
    "                    dataTransform.append(featureVector)\n",
    "                    labels.append(int(row[1]))\n",
    "            lineNum = lineNum + 1\n",
    "        return dataTransform,labels\n",
    "            \n",
    "        \n",
    "        "
   ]
  },
  {
   "cell_type": "code",
   "execution_count": 7,
   "metadata": {
    "collapsed": true
   },
   "outputs": [],
   "source": [
    "trainingFile = 'train.csv'\n",
    "features=[\"Pclass\",\"Sex\",\"Age\",\"SibSp\",\"Fare\"]\n",
    "trainingData=transformTrainingData(trainingFile, features)"
   ]
  },
  {
   "cell_type": "code",
   "execution_count": 9,
   "metadata": {
    "collapsed": false
   },
   "outputs": [],
   "source": [
    "from sklearn import tree\n",
    "import numpy as np\n",
    "clf = tree.DecisionTreeClassifier(max_leaf_nodes=20)\n",
    "X=np.array(trainingData[0])\n",
    "Y=np.array(trainingData[1])\n",
    "clf=clf.fit(X,Y)"
   ]
  },
  {
   "cell_type": "code",
   "execution_count": 20,
   "metadata": {
    "collapsed": false
   },
   "outputs": [],
   "source": [
    "def transformTestData(testData, features):\n",
    "     with open(testData,'r') as csvfile:\n",
    "        dataTransform = []\n",
    "        ids = []\n",
    "        genderMap = {\"male\":1,\"female\":2,\"\":\"\"}\n",
    "        embarkMap = {\"C\":1,\"Q\":2,\"S\":3,\"\":\"\"}\n",
    "        lineNum = 1\n",
    "        blank = \"\"\n",
    "        reader = csv.reader(csvfile, delimiter=',', quotechar = \"\\\"\")\n",
    "        for row in reader:\n",
    "            if lineNum==1:\n",
    "                header = row\n",
    "            else:\n",
    "                # Handling categorical variables.\n",
    "                allFeatures=list(map(lambda x:genderMap[x] if row.index(x)==3 else embarkMap[x] if row.index(x)==10 else x,row))\n",
    "                featureVector = [allFeatures[header.index(feature)] for feature in features]\n",
    "                # Handling missing values\n",
    "                featureVector=list(map(lambda x:0 if x==\"\" else x,featureVector))\n",
    "                if blank not in featureVector:\n",
    "                    dataTransform.append(featureVector)\n",
    "                    ids.append(int(row[0]))\n",
    "            lineNum = lineNum + 1\n",
    "        return dataTransform,ids\n",
    "    "
   ]
  },
  {
   "cell_type": "code",
   "execution_count": 37,
   "metadata": {
    "collapsed": false
   },
   "outputs": [],
   "source": [
    "def titanicTest(clf, resultsFile, transformDataFunction):\n",
    "    testFile='test.csv'\n",
    "    testData=transformDataFunction(testFile,features)\n",
    "    results = clf.predict(testData[0])\n",
    "    with open(resultsFile,'w') as f:\n",
    "        ids=testData[1]\n",
    "        lineWriter=csv.writer(f, delimiter=',',quotechar=\"\\\"\")\n",
    "        lineWriter.writerow([\"PassengerID\",\"Survived\"])\n",
    "        for rowNum in range(len(ids)):\n",
    "            try:\n",
    "                lineWriter.writerow([ids[rowNum],results[rowNum]])\n",
    "            except(Exception),e:\n",
    "                print e\n",
    "    "
   ]
  },
  {
   "cell_type": "code",
   "execution_count": 38,
   "metadata": {
    "collapsed": false
   },
   "outputs": [
    {
     "ename": "TypeError",
     "evalue": "titanicTest() takes exactly 3 arguments (2 given)",
     "output_type": "error",
     "traceback": [
      "\u001b[1;31m---------------------------------------------------------------------------\u001b[0m",
      "\u001b[1;31mTypeError\u001b[0m                                 Traceback (most recent call last)",
      "\u001b[1;32m<ipython-input-38-ad925d213d1f>\u001b[0m in \u001b[0;36m<module>\u001b[1;34m()\u001b[0m\n\u001b[0;32m      1\u001b[0m \u001b[0mresultsFile\u001b[0m\u001b[1;33m=\u001b[0m\u001b[1;34m'results.csv'\u001b[0m\u001b[1;33m\u001b[0m\u001b[0m\n\u001b[1;32m----> 2\u001b[1;33m \u001b[0mtitanicTest\u001b[0m\u001b[1;33m(\u001b[0m\u001b[0mclf\u001b[0m\u001b[1;33m,\u001b[0m\u001b[0mresultsFile\u001b[0m\u001b[1;33m)\u001b[0m\u001b[1;33m\u001b[0m\u001b[0m\n\u001b[0m",
      "\u001b[1;31mTypeError\u001b[0m: titanicTest() takes exactly 3 arguments (2 given)"
     ]
    }
   ],
   "source": [
    "resultsFile='results.csv'\n",
    "titanicTest(clf,resultsFile)"
   ]
  },
  {
   "cell_type": "code",
   "execution_count": 46,
   "metadata": {
    "collapsed": false
   },
   "outputs": [],
   "source": [
    "def transformTestDataV2(testFile,features):\n",
    "    transformData=[]\n",
    "    ids=[]\n",
    "    genderMap={\"male\":1,\"female\":2,\"\":1} # default set to male\n",
    "    embarkMap={\"C\":1,\"Q\":2,\"S\":3,\"\":3}   # Map the default embarkation port as Southampton\n",
    "    blank=\"\" \n",
    "    with open(testFile,\"r\") as csvfile:\n",
    "        lineReader=csv.reader(csvfile,delimiter=',',quotechar=\"\\\"\")\n",
    "        lineNum=1\n",
    "        for row in lineReader:\n",
    "            if lineNum==1:\n",
    "                header=row\n",
    "            else:\n",
    "                allFeatures=list(map(lambda x:genderMap[x] if row.index(x)==3 else embarkMap[x] if row.index(x)==10 else x,row))\n",
    "                if allFeatures[1]==\"\":\n",
    "                    allFeatures[1]=2\n",
    "                if allFeatures[4]==\"\":\n",
    "                    allFeatures[4]=30\n",
    "                if allFeatures[5]==\"\":\n",
    "                    allFeatures[5]=0\n",
    "                if allFeatures[8]==\"\":\n",
    "                    allFeatures[8]=32\n",
    "                featureVector=[allFeatures[header.index(feature)] for feature in features]\n",
    "                transformData.append(featureVector)\n",
    "                ids.append(row[0])\n",
    "            lineNum = lineNum+1\n",
    "    return transformData,ids\n",
    "    \n",
    "    "
   ]
  },
  {
   "cell_type": "code",
   "execution_count": 47,
   "metadata": {
    "collapsed": false
   },
   "outputs": [],
   "source": [
    "resultsFile='resultsV2.csv'\n",
    "titanicTest(clf, resultsFile, transformTestDataV2)"
   ]
  },
  {
   "cell_type": "code",
   "execution_count": null,
   "metadata": {
    "collapsed": true
   },
   "outputs": [],
   "source": []
  }
 ],
 "metadata": {
  "kernelspec": {
   "display_name": "Python 2",
   "language": "python",
   "name": "python2"
  },
  "language_info": {
   "codemirror_mode": {
    "name": "ipython",
    "version": 2
   },
   "file_extension": ".py",
   "mimetype": "text/x-python",
   "name": "python",
   "nbconvert_exporter": "python",
   "pygments_lexer": "ipython2",
   "version": "2.7.11"
  }
 },
 "nbformat": 4,
 "nbformat_minor": 0
}
