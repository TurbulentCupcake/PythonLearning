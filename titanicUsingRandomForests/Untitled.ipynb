{
 "cells": [
  {
   "cell_type": "code",
   "execution_count": null,
   "metadata": {
    "collapsed": true
   },
   "outputs": [],
   "source": [
    "import csv\n",
    "\n",
    "def transformFile(trainingFile, features):\n",
    "    transformData = []\n",
    "    labels = []\n",
    "    # convert categorical variables\n",
    "    genderMap = {\"male\":1,\"female\":2, \"\":\"\"}\n",
    "    embarkMap = {\"C\":1,\"Q\":2,\"S\":3,\"\":\"\"}\n",
    "    # initialize a blank string to perform a check\n",
    "    blank=\"\"\n",
    "    with open(trainingFile,'rb') as csvfile:\n",
    "        linkreader = csv.reader(csvfile, delimited = \",\",quotechar = \"\\\"\")\n",
    "        lineNum = 1\n",
    "        for row in lineReader:\n",
    "            if lineNum == 1:\n",
    "                # fetching needed vectors\n",
    "                header = row\n",
    "            else:\n",
    "                allFeatures=map(lambda x:genderMap[x] if row.index(x) == 4\n",
    "                               else embarkMap[x] if row.index(x)==11 else x,row)\n",
    "                featureVector = [allFeatures[header.index(feature)] for feature in features]\n",
    "                if blank not in featureVector:\n",
    "                    transformData.append(featureVector)"
   ]
  }
 ],
 "metadata": {
  "kernelspec": {
   "display_name": "Python 2",
   "language": "python",
   "name": "python2"
  },
  "language_info": {
   "codemirror_mode": {
    "name": "ipython",
    "version": 2
   },
   "file_extension": ".py",
   "mimetype": "text/x-python",
   "name": "python",
   "nbconvert_exporter": "python",
   "pygments_lexer": "ipython2",
   "version": "2.7.11"
  }
 },
 "nbformat": 4,
 "nbformat_minor": 0
}
